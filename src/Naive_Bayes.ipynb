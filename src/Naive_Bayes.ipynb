{
 "cells": [
  {
   "cell_type": "markdown",
   "metadata": {},
   "source": [
    "#      ****     SENTIMENT ANALYSIS OF TWEETS       ****"
   ]
  },
  {
   "cell_type": "code",
   "execution_count": 2,
   "metadata": {},
   "outputs": [],
   "source": [
    "import re\n",
    "import csv\n",
    "import string\n",
    "import numpy as np\n",
    "import pandas as pd\n",
    "from time import time\n",
    "from wordcloud import WordCloud \n",
    "from matplotlib import pyplot as plt\n",
    "from sklearn.pipeline import Pipeline\n",
    "from porter_stemmer import PorterStemmer\n",
    "from sklearn.base import TransformerMixin\n",
    "from sklearn.naive_bayes import GaussianNB\n",
    "from sklearn.metrics import accuracy_score\n",
    "from sklearn.feature_extraction import stop_words\n",
    "from sklearn.feature_extraction.text import CountVectorizer\n",
    "from sklearn.feature_extraction.text import TfidfVectorizer\n",
    "from sklearn.feature_extraction.text import TfidfTransformer\n",
    "from sklearn.feature_extraction.stop_words import ENGLISH_STOP_WORDS"
   ]
  },
  {
   "cell_type": "markdown",
   "metadata": {},
   "source": [
    "### Data Reading"
   ]
  },
  {
   "cell_type": "code",
   "execution_count": 3,
   "metadata": {},
   "outputs": [
    {
     "data": {
      "text/html": [
       "<div>\n",
       "<style scoped>\n",
       "    .dataframe tbody tr th:only-of-type {\n",
       "        vertical-align: middle;\n",
       "    }\n",
       "\n",
       "    .dataframe tbody tr th {\n",
       "        vertical-align: top;\n",
       "    }\n",
       "\n",
       "    .dataframe thead th {\n",
       "        text-align: right;\n",
       "    }\n",
       "</style>\n",
       "<table border=\"1\" class=\"dataframe\">\n",
       "  <thead>\n",
       "    <tr style=\"text-align: right;\">\n",
       "      <th></th>\n",
       "      <th>text</th>\n",
       "      <th>target</th>\n",
       "    </tr>\n",
       "  </thead>\n",
       "  <tbody>\n",
       "    <tr>\n",
       "      <th>0</th>\n",
       "      <td>awww bummer shoulda got david carr dai</td>\n",
       "      <td>0</td>\n",
       "    </tr>\n",
       "    <tr>\n",
       "      <th>1</th>\n",
       "      <td>upset updat facebook tex result school todai b...</td>\n",
       "      <td>0</td>\n",
       "    </tr>\n",
       "    <tr>\n",
       "      <th>2</th>\n",
       "      <td>dive time ball manag save rest bound</td>\n",
       "      <td>0</td>\n",
       "    </tr>\n",
       "    <tr>\n",
       "      <th>3</th>\n",
       "      <td>bodi feel itchi like</td>\n",
       "      <td>0</td>\n",
       "    </tr>\n",
       "    <tr>\n",
       "      <th>4</th>\n",
       "      <td>behav mad</td>\n",
       "      <td>0</td>\n",
       "    </tr>\n",
       "    <tr>\n",
       "      <th>5</th>\n",
       "      <td>crew</td>\n",
       "      <td>0</td>\n",
       "    </tr>\n",
       "    <tr>\n",
       "      <th>6</th>\n",
       "      <td>need hug</td>\n",
       "      <td>0</td>\n",
       "    </tr>\n",
       "    <tr>\n",
       "      <th>7</th>\n",
       "      <td>hei long time ye rain bit bit lol fine thank</td>\n",
       "      <td>0</td>\n",
       "    </tr>\n",
       "    <tr>\n",
       "      <th>8</th>\n",
       "      <td>nope did</td>\n",
       "      <td>0</td>\n",
       "    </tr>\n",
       "    <tr>\n",
       "      <th>9</th>\n",
       "      <td>que muera</td>\n",
       "      <td>0</td>\n",
       "    </tr>\n",
       "  </tbody>\n",
       "</table>\n",
       "</div>"
      ],
      "text/plain": [
       "                                                text  target\n",
       "0            awww bummer shoulda got david carr dai        0\n",
       "1  upset updat facebook tex result school todai b...       0\n",
       "2               dive time ball manag save rest bound       0\n",
       "3                              bodi feel itchi like        0\n",
       "4                                         behav mad        0\n",
       "5                                              crew        0\n",
       "6                                          need hug        0\n",
       "7      hei long time ye rain bit bit lol fine thank        0\n",
       "8                                          nope did        0\n",
       "9                                         que muera        0"
      ]
     },
     "execution_count": 3,
     "metadata": {},
     "output_type": "execute_result"
    }
   ],
   "source": [
    "data = pd.read_csv(\"./input_data/final_data.csv\")\n",
    "data.head(10)"
   ]
  },
  {
   "cell_type": "code",
   "execution_count": 4,
   "metadata": {},
   "outputs": [
    {
     "data": {
      "image/png": "[encoded data removed]",
      "text/plain": [
       "<matplotlib.figure.Figure at 0x7fd3ceec2c18>"
      ]
     },
     "metadata": {
      "needs_background": "light"
     },
     "output_type": "display_data"
    }
   ],
   "source": [
    "y = data['target']\n",
    "x = range(len(data))\n",
    "plt.scatter(x,y)\n",
    "plt.xlabel(\"Tweet number\")\n",
    "plt.ylabel(\"Sentiment\")\n",
    "plt.plot()\n",
    "plt.show()"
   ]
  },
  {
   "cell_type": "markdown",
   "metadata": {},
   "source": [
    "### Train-Test-Validation Split"
   ]
  },
  {
   "cell_type": "code",
   "execution_count": 5,
   "metadata": {},
   "outputs": [],
   "source": [
    "from sklearn.model_selection import train_test_split\n",
    "\n",
    "X = data['text']\n",
    "Y = data['target']\n",
    "X_train, X_val_test , Y_train, Y_val_test = train_test_split(X,Y,test_size=0.02)\n",
    "X_val, X_test, Y_val, Y_test = train_test_split(X_val_test,Y_val_test,test_size=0.5)"
   ]
  },
  {
   "cell_type": "code",
   "execution_count": 6,
   "metadata": {},
   "outputs": [],
   "source": [
    "train_df = pd.concat([X_train, Y_train],axis='columns').reset_index(drop=True)\n",
    "train_df.to_csv(\"./input_data/train_df.csv\", sep=',')         \n",
    "\n",
    "validation_df = pd.concat([X_val, Y_val],axis='columns').reset_index(drop=True)\n",
    "validation_df.to_csv(\"./input_data/validation_df.csv\", sep=',')\n",
    "\n",
    "test_df = pd.concat([X_test, Y_test],axis='columns').reset_index(drop=True)\n",
    "test_df.to_csv(\"./input_data/test_df.csv\", sep=',')"
   ]
  },
  {
   "cell_type": "markdown",
   "metadata": {},
   "source": [
    "### Reading Of Data From Stored File"
   ]
  },
  {
   "cell_type": "code",
   "execution_count": null,
   "metadata": {},
   "outputs": [],
   "source": [
    "train_df = pd.read_csv(\"./input_data/train_df.csv\")\n",
    "X_train = train_df['text']\n",
    "Y_train = train_df['target']\n",
    "\n",
    "\n",
    "val_df = pd.read_csv(\"./input_data/validation_df.csv\")\n",
    "X_val = val_df['text']\n",
    "Y_val = val_df['target']"
   ]
  },
  {
   "cell_type": "markdown",
   "metadata": {},
   "source": [
    "### Model objects"
   ]
  },
  {
   "cell_type": "code",
   "execution_count": null,
   "metadata": {},
   "outputs": [],
   "source": [
    "cvec = CountVectorizer()\n",
    "tfidf = TfidfVectorizer()\n",
    "nb = GaussianNB()"
   ]
  },
  {
   "cell_type": "code",
   "execution_count": null,
   "metadata": {},
   "outputs": [],
   "source": [
    "def model_results(vectorizer,X_train=X_train,X_val=X_val,Y_train=Y_train,Y_val=Y_val,ngram_range=(1,1),stop_words=None):\n",
    "    for n in range(10000,100001,10000):\n",
    "        vectorizer.set_params(stop_words=stop_words, max_features=n, ngram_range=ngram_range)\n",
    "        \n",
    "        t0 = time()\n",
    "        VC_train = vectorizer.fit_transform(X_train.values.astype('U'))\n",
    "        VC_val = vectorizer.transform(X_val.values.astype('U'))\n",
    "        \n",
    "        nb = GaussianNB()\n",
    "        i = 0\n",
    "        while i < len(X_train):\n",
    "            j = min(len(X_train),i+10000)\n",
    "            model_nb = nb.partial_fit(VC_train[i:j].todense(), Y_train[i:j],classes=[0,4])\n",
    "            i += 10000\n",
    "        pred = model_nb.predict(VC_val.todense())\n",
    "        \n",
    "        train_test_time = time() - t0\n",
    "        \n",
    "        if len(X_val[Y_val == 0]) / (len(X_val)*1.) > 0.5:\n",
    "            null_accuracy = len(X_val[Y_val == 0]) / (len(X_val)*1.)\n",
    "        else:\n",
    "            null_accuracy = 1. - (len(X_val[Y_val == 0]) / (len(X_val)*1.)) \n",
    "        accuracy = accuracy_score(Y_val,pred)\n",
    "        \n",
    "        print(\"Number of features : \",n)\n",
    "        print(\"Train and test time:  {0:.2f}s\".format(train_test_time))\n",
    "        print(\"Null accuracy : {0:.2f}% \".format(null_accuracy*100))\n",
    "        print(\"Model Accuracy : {0:.2f}%\".format(accuracy*100))\n",
    "        \n",
    "        if accuracy > null_accuracy:\n",
    "            print(\"Model is {0:.2f}% more accurate than null accuracy\".format((accuracy-null_accuracy)*100))\n",
    "        elif accuracy == null_accuracy:\n",
    "            print(\"Model has the same accuracy with the null accuracy\")\n",
    "        else:\n",
    "            print(\"Model is {0:.2f}% less accurate than null accuracy\".format((null_accuracy-accuracy)*100))\n",
    "            \n",
    "        print(\"--------------------------------------------------------------------\")"
   ]
  },
  {
   "cell_type": "markdown",
   "metadata": {},
   "source": [
    "## Bag Of Words"
   ]
  },
  {
   "cell_type": "markdown",
   "metadata": {},
   "source": [
    "### Unigram"
   ]
  },
  {
   "cell_type": "code",
   "execution_count": null,
   "metadata": {
    "scrolled": false
   },
   "outputs": [
    {
     "name": "stdout",
     "output_type": "stream",
     "text": [
      "RESULTS WITH BAG OF WORDS UNIGRAM MODEL \n",
      "--------------------------------------------------------------------\n",
      "Number of features :  10000\n",
      "Train and test time:  378.47s\n",
      "Null accuracy : 50.01% \n",
      "Model Accuracy : 68.43%\n",
      "Model is 18.42% more accurate than null accuracy\n",
      "--------------------------------------------------------------------\n",
      "Number of features :  20000\n",
      "Train and test time:  1262.72s\n",
      "Null accuracy : 50.01% \n",
      "Model Accuracy : 68.78%\n",
      "Model is 18.77% more accurate than null accuracy\n",
      "--------------------------------------------------------------------\n",
      "Number of features :  30000\n",
      "Train and test time:  1943.07s\n",
      "Null accuracy : 50.01% \n",
      "Model Accuracy : 61.27%\n",
      "Model is 11.26% more accurate than null accuracy\n",
      "--------------------------------------------------------------------\n",
      "Number of features :  40000\n",
      "Train and test time:  3833.17s\n",
      "Null accuracy : 50.01% \n",
      "Model Accuracy : 58.89%\n",
      "Model is 8.87% more accurate than null accuracy\n",
      "--------------------------------------------------------------------\n"
     ]
    }
   ],
   "source": [
    "print(\"RESULTS WITH BAG OF WORDS UNIGRAM MODEL \")\n",
    "print(\"--------------------------------------------------------------------\")\n",
    "model_results(cvec)"
   ]
  },
  {
   "cell_type": "markdown",
   "metadata": {},
   "source": [
    "### Bigram"
   ]
  },
  {
   "cell_type": "code",
   "execution_count": null,
   "metadata": {},
   "outputs": [
    {
     "name": "stdout",
     "output_type": "stream",
     "text": [
      "RESULTS WITH BAG OF WORDS BIGRAM MODEL \n",
      "--------------------------------------------------------------------\n",
      "Number of features :  10000\n",
      "Train and test time:  667.85s\n",
      "Null accuracy : 50.32% \n",
      "Model Accuracy : 63.12%\n",
      "Model is 12.80% more accurate than null accuracy\n",
      "--------------------------------------------------------------------\n",
      "Number of features :  20000\n",
      "Train and test time:  1434.05s\n",
      "Null accuracy : 50.32% \n",
      "Model Accuracy : 64.38%\n",
      "Model is 14.06% more accurate than null accuracy\n",
      "--------------------------------------------------------------------\n",
      "Number of features :  30000\n",
      "Train and test time:  2757.92s\n",
      "Null accuracy : 50.32% \n",
      "Model Accuracy : 64.97%\n",
      "Model is 14.65% more accurate than null accuracy\n",
      "--------------------------------------------------------------------\n"
     ]
    }
   ],
   "source": [
    "print(\"RESULTS WITH BAG OF WORDS BIGRAM MODEL \")\n",
    "print(\"--------------------------------------------------------------------\")\n",
    "model_results(cvec,ngram_range=(2,2))"
   ]
  },
  {
   "cell_type": "markdown",
   "metadata": {},
   "source": [
    "## TF-IDF"
   ]
  },
  {
   "cell_type": "markdown",
   "metadata": {},
   "source": [
    "### Unigram"
   ]
  },
  {
   "cell_type": "code",
   "execution_count": null,
   "metadata": {},
   "outputs": [
    {
     "name": "stdout",
     "output_type": "stream",
     "text": [
      "RESULTS WITH TF-IDF UNIGRAM MODEL \n",
      "--------------------------------------------------------------------\n",
      "Number of features :  10000\n",
      "Train and test time:  260.10s\n",
      "Null accuracy : 50.27% \n",
      "Model Accuracy : 68.37%\n",
      "Model is 18.10% more accurate than null accuracy\n",
      "--------------------------------------------------------------------\n",
      "Number of features :  20000\n",
      "Train and test time:  539.84s\n",
      "Null accuracy : 50.27% \n",
      "Model Accuracy : 66.11%\n",
      "Model is 15.84% more accurate than null accuracy\n",
      "--------------------------------------------------------------------\n",
      "Number of features :  30000\n",
      "Train and test time:  1167.30s\n",
      "Null accuracy : 50.27% \n",
      "Model Accuracy : 61.77%\n",
      "Model is 11.50% more accurate than null accuracy\n",
      "--------------------------------------------------------------------\n"
     ]
    }
   ],
   "source": [
    "print(\"RESULTS WITH TF-IDF UNIGRAM MODEL \")\n",
    "print(\"--------------------------------------------------------------------\")\n",
    "model_results(tfidf)"
   ]
  },
  {
   "cell_type": "markdown",
   "metadata": {},
   "source": [
    "### Bigram"
   ]
  },
  {
   "cell_type": "code",
   "execution_count": null,
   "metadata": {},
   "outputs": [],
   "source": [
    "print(\"RESULTS WITH TF-IDF BIGRAM MODEL \")\n",
    "print(\"--------------------------------------------------------------------\")\n",
    "model_results(tfidf,ngram_range=(1,2))"
   ]
  }
 ],
 "metadata": {
  "kernelspec": {
   "display_name": "Python 3",
   "language": "python",
   "name": "python3"
  },
  "language_info": {
   "codemirror_mode": {
    "name": "ipython",
    "version": 3
   },
   "file_extension": ".py",
   "mimetype": "text/x-python",
   "name": "python",
   "nbconvert_exporter": "python",
   "pygments_lexer": "ipython3",
   "version": "3.6.7"
  }
 },
 "nbformat": 4,
 "nbformat_minor": 2
}
