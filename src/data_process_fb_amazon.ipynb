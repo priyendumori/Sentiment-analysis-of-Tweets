{
 "cells": [
  {
   "cell_type": "code",
   "execution_count": 2,
   "metadata": {},
   "outputs": [],
   "source": [
    "import pandas as pd"
   ]
  },
  {
   "cell_type": "code",
   "execution_count": 3,
   "metadata": {},
   "outputs": [],
   "source": [
    "fb_post = []\n",
    "with open(\"../input_data/facebook_comments/fb_data.txt\") as f:\n",
    "    for line in f:\n",
    "        fb_post.append(line)\n",
    "        \n",
    "fb_post_label = []\n",
    "with open(\"../input_data/facebook_comments/fb_label.txt\") as f:\n",
    "    for line in f:\n",
    "        if line.rstrip():\n",
    "            fb_post_label.append(line.rstrip())\n",
    "        \n",
    "fb = pd.DataFrame({'post':fb_post,'label':fb_post_label})\n",
    "fb = fb[fb['label']!='O'].reset_index(drop=True)\n",
    "fb = fb.replace(to_replace='N',value=0)\n",
    "fb = fb.replace(to_replace='P',value=4)\n",
    "fb.to_csv(\"../input_data/facebook_comments/fb_data.csv\",index=False)"
   ]
  },
  {
   "cell_type": "code",
   "execution_count": 9,
   "metadata": {},
   "outputs": [],
   "source": [
    "amazon_post = []\n",
    "with open(\"../input_data/amazon_review/amazon_data.txt\") as f:\n",
    "    for line in f:\n",
    "        amazon_post.append(line)\n",
    "        \n",
    "amazon_post_label = []\n",
    "with open(\"../input_data/amazon_review/amazon_label.txt\") as f:\n",
    "    for line in f:\n",
    "        if line.rstrip():\n",
    "            amazon_post_label.append(line.rstrip())\n",
    "        \n",
    "amazon = pd.DataFrame({'post':amazon_post,'label':amazon_post_label})\n",
    "amazon = amazon[amazon['label']!='O'].reset_index(drop=True)\n",
    "amazon = amazon.replace(to_replace='N',value=0)\n",
    "amazon = amazon.replace(to_replace='P',value=4)\n",
    "amazon.to_csv(\"../input_data/amazon_review/amazon_data.csv\",index=False)"
   ]
  },
  {
   "cell_type": "code",
   "execution_count": null,
   "metadata": {},
   "outputs": [],
   "source": []
  }
 ],
 "metadata": {
  "kernelspec": {
   "display_name": "Python 2",
   "language": "python",
   "name": "python2"
  },
  "language_info": {
   "codemirror_mode": {
    "name": "ipython",
    "version": 2
   },
   "file_extension": ".py",
   "mimetype": "text/x-python",
   "name": "python",
   "nbconvert_exporter": "python",
   "pygments_lexer": "ipython2",
   "version": "2.7.15rc1"
  }
 },
 "nbformat": 4,
 "nbformat_minor": 2
}
