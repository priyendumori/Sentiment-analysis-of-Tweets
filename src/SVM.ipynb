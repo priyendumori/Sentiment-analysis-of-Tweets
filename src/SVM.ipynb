{
 "cells": [
  {
   "cell_type": "markdown",
   "metadata": {},
   "source": [
    "# Using Support Vector Machine with Countvectorizer and TFIDF with unigram and bigram."
   ]
  },
  {
   "cell_type": "code",
   "execution_count": 1,
   "metadata": {},
   "outputs": [],
   "source": [
    "import pandas as pd\n",
    "from matplotlib import pyplot as plt\n",
    "from sklearn.model_selection import train_test_split\n",
    "\n",
    "import numpy as np\n",
    "\n",
    "%matplotlib inline\n",
    "%config InlineBackend.figure_format = 'retina'"
   ]
  },
  {
   "cell_type": "code",
   "execution_count": 2,
   "metadata": {},
   "outputs": [],
   "source": [
    "df = pd.read_csv(\"../input_data/clean_tweet_without_NaN.csv\")"
   ]
  },
  {
   "cell_type": "code",
   "execution_count": 3,
   "metadata": {},
   "outputs": [],
   "source": [
    "x = df.text\n",
    "y = df.target"
   ]
  },
  {
   "cell_type": "code",
   "execution_count": 4,
   "metadata": {},
   "outputs": [],
   "source": [
    "SEED = 2000\n",
    "x_train, x_validation_and_test, y_train, y_validation_and_test = train_test_split(x, y, test_size=.02, random_state=SEED)\n",
    "x_validation, x_test, y_validation, y_test = train_test_split(x_validation_and_test, y_validation_and_test, test_size=.5, random_state=SEED)"
   ]
  },
  {
   "cell_type": "code",
   "execution_count": 5,
   "metadata": {},
   "outputs": [
    {
     "name": "stdout",
     "output_type": "stream",
     "text": [
      "Train set has total 1562575 entries with 50.02% negative, 49.98% positive\n",
      "Validation set has total 15945 entries with 50.66% negative, 49.34% positive\n",
      "Test set has total 15945 entries with 49.70% negative, 50.30% positive\n"
     ]
    }
   ],
   "source": [
    "print \"Train set has total {0} entries with {1:.2f}% negative, {2:.2f}% positive\".format(len(x_train),\n",
    "                                                                             (len(x_train[y_train == 0]) / (len(x_train)*1.))*100,\n",
    "                                                                            (len(x_train[y_train == 4]) / (len(x_train)*1.))*100)\n",
    "print \"Validation set has total {0} entries with {1:.2f}% negative, {2:.2f}% positive\".format(len(x_validation),\n",
    "                                                                             (len(x_validation[y_validation == 0]) / (len(x_validation)*1.))*100,\n",
    "                                                                            (len(x_validation[y_validation == 4]) / (len(x_validation)*1.))*100)\n",
    "print \"Test set has total {0} entries with {1:.2f}% negative, {2:.2f}% positive\".format(len(x_test),\n",
    "                                                                             (len(x_test[y_test == 0]) / (len(x_test)*1.))*100,\n",
    "                                                                            (len(x_test[y_test == 4]) / (len(x_test)*1.))*100)"
   ]
  },
  {
   "cell_type": "code",
   "execution_count": 6,
   "metadata": {},
   "outputs": [],
   "source": [
    "from sklearn.feature_extraction.text import TfidfVectorizer\n",
    "from sklearn.feature_extraction.text import CountVectorizer\n",
    "from sklearn.metrics import accuracy_score\n",
    "from sklearn.linear_model import LogisticRegression\n",
    "from sklearn.naive_bayes import GaussianNB\n",
    "from sklearn.svm import LinearSVC\n",
    "from sklearn.pipeline import Pipeline\n",
    "from time import time\n",
    "import numpy as np"
   ]
  },
  {
   "cell_type": "code",
   "execution_count": 10,
   "metadata": {},
   "outputs": [],
   "source": [
    "def accuracy_summary(pipeline, x_train, y_train, x_validation, y_validation, x_test, y_test):\n",
    "    t0 = time()\n",
    "    sentiment_fit = pipeline.fit(x_train, y_train)\n",
    "    y_pred_val = sentiment_fit.predict(x_validation)\n",
    "    y_pred_test = sentiment_fit.predict(x_test)\n",
    "    train_test_time = time() - t0\n",
    "    val_accuracy = accuracy_score(y_validation, y_pred_val)\n",
    "    test_accuracy = accuracy_score(y_test, y_pred_test)\n",
    "    \n",
    "    print \"val accuracy score: {0:.2f}%\".format(val_accuracy*100)\n",
    "    print \"test accuracy score: {0:.2f}%\".format(test_accuracy*100)\n",
    "    print \"train and test time: {0:.2f}s\".format(train_test_time)\n",
    "    print \"-\"*80\n",
    "    return val_accuracy, test_accuracy, train_test_time, sentiment_fit"
   ]
  },
  {
   "cell_type": "code",
   "execution_count": 15,
   "metadata": {},
   "outputs": [],
   "source": [
    "cvec = CountVectorizer()\n",
    "tvec = TfidfVectorizer()\n",
    "svm_obj = LinearSVC(C=0.1)\n",
    "\n",
    "n_features = np.arange(10000,100001,10000)\n",
    "n_feature_only_one = np.arange(100000,100001)\n",
    "\n",
    "def nfeature_accuracy_checker(vectorizer=cvec, n_features=n_features, stop_words=None, ngram_range=(1, 1), classifier=None):\n",
    "    result = []\n",
    "    print (classifier)\n",
    "    print \"\\n\"\n",
    "    for n in n_features:\n",
    "        vectorizer.set_params(stop_words=stop_words, max_features=n, ngram_range=ngram_range)\n",
    "        checker_pipeline = Pipeline([\n",
    "            ('vectorizer', vectorizer),\n",
    "            ('classifier', classifier)\n",
    "        ])\n",
    "        print \"Validation result for {} features\".format(n)\n",
    "        nfeature_val_accuracy,nfeature_test_accuracy,tt_time,model = accuracy_summary(checker_pipeline, x_train, y_train, x_validation, y_validation, x_test, y_test)\n",
    "        result.append((n,nfeature_val_accuracy,nfeature_test_accuracy,tt_time))\n",
    "    return result,model"
   ]
  },
  {
   "cell_type": "code",
   "execution_count": 63,
   "metadata": {},
   "outputs": [],
   "source": [
    "def plot_tfidf(x,y1,y2,y3,y4,label1,label2,label3,label4):\n",
    "    plt.figure(figsize=(12,8))\n",
    "    plt.plot(x, y1, label=label1)\n",
    "    plt.plot(x, y2, label=label2)\n",
    "    plt.plot(x, y3, label=label3)\n",
    "    plt.plot(x, y4, label=label4)\n",
    "    plt.legend(loc='best')\n",
    "    plt.xlabel('number of features')\n",
    "    plt.ylabel('accuracy')\n",
    "    plt.title('Accuracy using tf-idf model')\n",
    "    plt.show()\n",
    "\n",
    "def plot_bow(y1,y2,y3,y4,label1,label2,label3,label4):\n",
    "    plt.figure(figsize=(12,8))\n",
    "    index = np.arange(4)\n",
    "    l = [y1,y2,y3,y4]\n",
    "    labels = [label1,label2,label3,label4]\n",
    "    plt.bar(labels, l)\n",
    "    plt.xlabel('model')\n",
    "    plt.ylabel('accuracy')\n",
    "    plt.xticks(index, label=labels, rotation=30)\n",
    "    plt.title('Accuracy using bag of words model')\n",
    "    plt.show()"
   ]
  },
  {
   "cell_type": "markdown",
   "metadata": {},
   "source": [
    "### 1. Using countvectorizer, unigram, stop words removed"
   ]
  },
  {
   "cell_type": "code",
   "execution_count": 16,
   "metadata": {},
   "outputs": [
    {
     "name": "stdout",
     "output_type": "stream",
     "text": [
      "RESULT FOR UNIGRAM WITH STOP WORDS (CountVectorizer)\n",
      "\n",
      "LinearSVC(C=0.1, class_weight=None, dual=True, fit_intercept=True,\n",
      "     intercept_scaling=1, loss='squared_hinge', max_iter=1000,\n",
      "     multi_class='ovr', penalty='l2', random_state=None, tol=0.0001,\n",
      "     verbose=0)\n",
      "\n",
      "\n",
      "Validation result for 100000 features\n",
      "val accuracy score: 78.78%\n",
      "test accuracy score: 78.51%\n",
      "train and test time: 423.72s\n",
      "--------------------------------------------------------------------------------\n",
      "CPU times: user 7min 4s, sys: 320 ms, total: 7min 4s\n",
      "Wall time: 7min 4s\n"
     ]
    }
   ],
   "source": [
    "%%time\n",
    "print \"RESULT FOR UNIGRAM WITH STOP WORDS REMOVED (CountVectorizer)\\n\"\n",
    "svm_uni_cvec_wo_stpw,svm_unigram_cvec = nfeature_accuracy_checker(n_features=n_feature_only_one,vectorizer=cvec,classifier=svm_obj)"
   ]
  },
  {
   "cell_type": "code",
   "execution_count": 27,
   "metadata": {},
   "outputs": [],
   "source": [
    "with open(\"cvec_uni_removed.pkl\",'w') as f:\n",
    "    pickle.dump(svm_unigram_cvec,f)"
   ]
  },
  {
   "cell_type": "markdown",
   "metadata": {},
   "source": [
    "### 2. Using countvectorizer, bigram, stop words removed"
   ]
  },
  {
   "cell_type": "code",
   "execution_count": 17,
   "metadata": {},
   "outputs": [
    {
     "name": "stdout",
     "output_type": "stream",
     "text": [
      "RESULT FOR BIGRAM WITH STOP WORDS (CountVectorizer)\n",
      "\n",
      "LinearSVC(C=0.1, class_weight=None, dual=True, fit_intercept=True,\n",
      "     intercept_scaling=1, loss='squared_hinge', max_iter=1000,\n",
      "     multi_class='ovr', penalty='l2', random_state=None, tol=0.0001,\n",
      "     verbose=0)\n",
      "\n",
      "\n",
      "Validation result for 100000 features\n",
      "val accuracy score: 80.80%\n",
      "test accuracy score: 80.81%\n",
      "train and test time: 662.36s\n",
      "--------------------------------------------------------------------------------\n",
      "CPU times: user 11min 1s, sys: 1.5 s, total: 11min 2s\n",
      "Wall time: 11min 2s\n"
     ]
    }
   ],
   "source": [
    "%%time\n",
    "print \"RESULT FOR BIGRAM WITH STOP WORDS REMOVED (CountVectorizer)\\n\"\n",
    "svm_bi_cvec_wo_stpw,svm_bigram_cvec = nfeature_accuracy_checker(n_features=n_feature_only_one,vectorizer=cvec,ngram_range=(1, 2),classifier=svm_obj)"
   ]
  },
  {
   "cell_type": "code",
   "execution_count": 28,
   "metadata": {},
   "outputs": [],
   "source": [
    "with open('cvec_bi_removed.pkl','w') as f:\n",
    "    pickle.dump(svm_bigram_cvec,f)"
   ]
  },
  {
   "cell_type": "markdown",
   "metadata": {},
   "source": [
    "### 3. Using tf-idf, unigram, stop words removed"
   ]
  },
  {
   "cell_type": "code",
   "execution_count": 18,
   "metadata": {},
   "outputs": [
    {
     "name": "stdout",
     "output_type": "stream",
     "text": [
      "RESULT FOR UNIGRAM WITH STOP WORDS (Tfidf)\n",
      "\n",
      "LinearSVC(C=0.1, class_weight=None, dual=True, fit_intercept=True,\n",
      "     intercept_scaling=1, loss='squared_hinge', max_iter=1000,\n",
      "     multi_class='ovr', penalty='l2', random_state=None, tol=0.0001,\n",
      "     verbose=0)\n",
      "\n",
      "\n",
      "Validation result for 10000 features\n",
      "val accuracy score: 78.56%\n",
      "test accuracy score: 78.67%\n",
      "train and test time: 31.15s\n",
      "--------------------------------------------------------------------------------\n",
      "Validation result for 20000 features\n",
      "val accuracy score: 78.83%\n",
      "test accuracy score: 78.84%\n",
      "train and test time: 33.44s\n",
      "--------------------------------------------------------------------------------\n",
      "Validation result for 30000 features\n",
      "val accuracy score: 78.80%\n",
      "test accuracy score: 78.88%\n",
      "train and test time: 28.64s\n",
      "--------------------------------------------------------------------------------\n",
      "Validation result for 40000 features\n",
      "val accuracy score: 78.83%\n",
      "test accuracy score: 78.90%\n",
      "train and test time: 29.31s\n",
      "--------------------------------------------------------------------------------\n",
      "Validation result for 50000 features\n",
      "val accuracy score: 78.83%\n",
      "test accuracy score: 78.84%\n",
      "train and test time: 29.16s\n",
      "--------------------------------------------------------------------------------\n",
      "Validation result for 60000 features\n",
      "val accuracy score: 78.88%\n",
      "test accuracy score: 78.92%\n",
      "train and test time: 27.77s\n",
      "--------------------------------------------------------------------------------\n",
      "Validation result for 70000 features\n",
      "val accuracy score: 78.90%\n",
      "test accuracy score: 78.90%\n",
      "train and test time: 28.70s\n",
      "--------------------------------------------------------------------------------\n",
      "Validation result for 80000 features\n",
      "val accuracy score: 78.85%\n",
      "test accuracy score: 78.92%\n",
      "train and test time: 29.21s\n",
      "--------------------------------------------------------------------------------\n",
      "Validation result for 90000 features\n",
      "val accuracy score: 78.83%\n",
      "test accuracy score: 78.95%\n",
      "train and test time: 26.93s\n",
      "--------------------------------------------------------------------------------\n",
      "Validation result for 100000 features\n",
      "val accuracy score: 78.88%\n",
      "test accuracy score: 78.95%\n",
      "train and test time: 26.65s\n",
      "--------------------------------------------------------------------------------\n",
      "CPU times: user 4min 49s, sys: 3.21 s, total: 4min 52s\n",
      "Wall time: 4min 51s\n"
     ]
    }
   ],
   "source": [
    "%%time\n",
    "print \"RESULT FOR UNIGRAM WITH STOP WORDS REMOVED (Tfidf)\\n\"\n",
    "svm_uni_tvec_wo_stpw,svm_unigram_tfidf = nfeature_accuracy_checker(vectorizer=tvec,classifier=svm_obj)"
   ]
  },
  {
   "cell_type": "code",
   "execution_count": 29,
   "metadata": {},
   "outputs": [],
   "source": [
    "with open('tvec_uni_removed.pkl','w') as f:\n",
    "    pickle.dump(svm_unigram_tfidf,f)"
   ]
  },
  {
   "cell_type": "markdown",
   "metadata": {},
   "source": [
    "### 4. Using tf-idf, bigram, stop words removed"
   ]
  },
  {
   "cell_type": "code",
   "execution_count": 19,
   "metadata": {},
   "outputs": [
    {
     "name": "stdout",
     "output_type": "stream",
     "text": [
      "RESULT FOR BIGRAM WITH STOP WORDS (Tfidf)\n",
      "\n",
      "LinearSVC(C=0.1, class_weight=None, dual=True, fit_intercept=True,\n",
      "     intercept_scaling=1, loss='squared_hinge', max_iter=1000,\n",
      "     multi_class='ovr', penalty='l2', random_state=None, tol=0.0001,\n",
      "     verbose=0)\n",
      "\n",
      "\n",
      "Validation result for 10000 features\n",
      "val accuracy score: 79.99%\n",
      "test accuracy score: 80.01%\n",
      "train and test time: 73.91s\n",
      "--------------------------------------------------------------------------------\n",
      "Validation result for 20000 features\n",
      "val accuracy score: 80.60%\n",
      "test accuracy score: 80.61%\n",
      "train and test time: 76.55s\n",
      "--------------------------------------------------------------------------------\n",
      "Validation result for 30000 features\n",
      "val accuracy score: 80.77%\n",
      "test accuracy score: 80.67%\n",
      "train and test time: 80.80s\n",
      "--------------------------------------------------------------------------------\n",
      "Validation result for 40000 features\n",
      "val accuracy score: 81.14%\n",
      "test accuracy score: 81.00%\n",
      "train and test time: 76.82s\n",
      "--------------------------------------------------------------------------------\n",
      "Validation result for 50000 features\n",
      "val accuracy score: 81.35%\n",
      "test accuracy score: 81.10%\n",
      "train and test time: 77.45s\n",
      "--------------------------------------------------------------------------------\n",
      "Validation result for 60000 features\n",
      "val accuracy score: 81.49%\n",
      "test accuracy score: 81.20%\n",
      "train and test time: 76.43s\n",
      "--------------------------------------------------------------------------------\n",
      "Validation result for 70000 features\n",
      "val accuracy score: 81.52%\n",
      "test accuracy score: 81.20%\n",
      "train and test time: 81.35s\n",
      "--------------------------------------------------------------------------------\n",
      "Validation result for 80000 features\n",
      "val accuracy score: 81.51%\n",
      "test accuracy score: 81.30%\n",
      "train and test time: 76.49s\n",
      "--------------------------------------------------------------------------------\n",
      "Validation result for 90000 features\n",
      "val accuracy score: 81.49%\n",
      "test accuracy score: 81.37%\n",
      "train and test time: 75.22s\n",
      "--------------------------------------------------------------------------------\n",
      "Validation result for 100000 features\n",
      "val accuracy score: 81.48%\n",
      "test accuracy score: 81.35%\n",
      "train and test time: 74.76s\n",
      "--------------------------------------------------------------------------------\n",
      "CPU times: user 12min 38s, sys: 14.3 s, total: 12min 52s\n",
      "Wall time: 12min 49s\n"
     ]
    }
   ],
   "source": [
    "%%time\n",
    "print \"RESULT FOR BIGRAM WITH STOP WORDS REMOVED (Tfidf)\\n\"\n",
    "svm_bi_tvec_wo_stpw,svm_bigram_tvec = nfeature_accuracy_checker(vectorizer=tvec,ngram_range=(1, 2),classifier=svm_obj)"
   ]
  },
  {
   "cell_type": "code",
   "execution_count": 30,
   "metadata": {},
   "outputs": [],
   "source": [
    "with open('tvec_bi_removed.pkl','w') as f:\n",
    "    pickle.dump(svm_bigram_tvec,f)"
   ]
  },
  {
   "cell_type": "code",
   "execution_count": null,
   "metadata": {},
   "outputs": [],
   "source": []
  },
  {
   "cell_type": "raw",
   "metadata": {},
   "source": [
    "x_axis,val_acc_uni_cvec,test_acc_uni_cvec,_ = svm_uni_cvec_wo_stpw\n",
    "x_axis,val_acc_bi_cvec,test_acc_bi_cvec,_ = svm_bi_cvec_wo_stpw\n",
    "x_axis,val_acc_uni_tvec,test_acc_uni_tvec,_ = svm_uni_tvec_wo_stpw\n",
    "x_axis,val_acc_bi_tvec,test_acc_bi_tvec,_ = svm_bi_tvec_wo_stpw\n",
    "plot(x_axis,test_stemmer.pyt_acc_uni_cvec,test_acc_bi_cvec,test_acc_uni_tvec,test_acc_bi_tvec, \n",
    "     \"unigram counvectorizer\",\"bigram counvectorizer\",\"unigram tf-idf\",\"unigram tf-idf\")"
   ]
  },
  {
   "cell_type": "code",
   "execution_count": 22,
   "metadata": {},
   "outputs": [],
   "source": [
    "import pickle\n",
    "with open('first_4.pkl','w') as f:\n",
    "    pickle.dump(svm_uni_cvec_wo_stpw,f)\n",
    "    pickle.dump(svm_bi_cvec_wo_stpw,f)\n",
    "    pickle.dump(svm_uni_tvec_wo_stpw,f)\n",
    "    pickle.dump(svm_bi_tvec_wo_stpw,f)\n",
    "    "
   ]
  },
  {
   "cell_type": "markdown",
   "metadata": {},
   "source": [
    "### 5. Using countvectorizer, unigram, stop words not removed"
   ]
  },
  {
   "cell_type": "code",
   "execution_count": 23,
   "metadata": {},
   "outputs": [
    {
     "name": "stdout",
     "output_type": "stream",
     "text": [
      "RESULT FOR UNIGRAM WITH STOP WORDS (CountVectorizer)\n",
      "\n",
      "LinearSVC(C=0.1, class_weight=None, dual=True, fit_intercept=True,\n",
      "     intercept_scaling=1, loss='squared_hinge', max_iter=1000,\n",
      "     multi_class='ovr', penalty='l2', random_state=None, tol=0.0001,\n",
      "     verbose=0)\n",
      "\n",
      "\n",
      "Validation result for 100000 features\n",
      "val accuracy score: 76.81%\n",
      "test accuracy score: 76.33%\n",
      "train and test time: 374.66s\n",
      "--------------------------------------------------------------------------------\n",
      "CPU times: user 6min 14s, sys: 588 ms, total: 6min 14s\n",
      "Wall time: 6min 14s\n"
     ]
    }
   ],
   "source": [
    "%%time\n",
    "print \"RESULT FOR UNIGRAM WITH STOP WORDS NOT REMOVED (CountVectorizer)\\n\"\n",
    "svm_uni_cvec_w_stpw,svm_unigram_cvec_stp = nfeature_accuracy_checker(n_features=n_feature_only_one,vectorizer=cvec,classifier=svm_obj,stop_words='english')"
   ]
  },
  {
   "cell_type": "code",
   "execution_count": 31,
   "metadata": {},
   "outputs": [],
   "source": [
    "with open('cvec_uni_not_removed.pkl','w') as f:\n",
    "    pickle.dump(svm_unigram_cvec_stp,f)"
   ]
  },
  {
   "cell_type": "markdown",
   "metadata": {},
   "source": [
    "### 6. Using countvectorizer, bigram, stop words not removed"
   ]
  },
  {
   "cell_type": "code",
   "execution_count": 24,
   "metadata": {},
   "outputs": [
    {
     "name": "stdout",
     "output_type": "stream",
     "text": [
      "RESULT FOR BIGRAM WITH STOP WORDS (CountVectorizer)\n",
      "\n",
      "LinearSVC(C=0.1, class_weight=None, dual=True, fit_intercept=True,\n",
      "     intercept_scaling=1, loss='squared_hinge', max_iter=1000,\n",
      "     multi_class='ovr', penalty='l2', random_state=None, tol=0.0001,\n",
      "     verbose=0)\n",
      "\n",
      "\n",
      "Validation result for 100000 features\n",
      "val accuracy score: 77.59%\n",
      "test accuracy score: 77.32%\n",
      "train and test time: 666.90s\n",
      "--------------------------------------------------------------------------------\n",
      "CPU times: user 11min 5s, sys: 1.4 s, total: 11min 6s\n",
      "Wall time: 11min 6s\n"
     ]
    }
   ],
   "source": [
    "%%time\n",
    "print \"RESULT FOR BIGRAM WITH STOP WORDS NOT REMOVED (CountVectorizer)\\n\"\n",
    "svm_bi_cvec_w_stpw,svm_bigram_cvec_stp = nfeature_accuracy_checker(n_features=n_feature_only_one,vectorizer=cvec,ngram_range=(1, 2),classifier=svm_obj,stop_words='english')"
   ]
  },
  {
   "cell_type": "code",
   "execution_count": 32,
   "metadata": {},
   "outputs": [],
   "source": [
    "with open('cvec_bi_not_removed.pkl','w') as f:\n",
    "    pickle.dump(svm_bigram_cvec_stp,f)"
   ]
  },
  {
   "cell_type": "markdown",
   "metadata": {},
   "source": [
    "### 7. Using tf-idf, unigram, stop words not removed"
   ]
  },
  {
   "cell_type": "code",
   "execution_count": 25,
   "metadata": {},
   "outputs": [
    {
     "name": "stdout",
     "output_type": "stream",
     "text": [
      "RESULT FOR UNIGRAM WITH STOP WORDS (Tfidf)\n",
      "\n",
      "LinearSVC(C=0.1, class_weight=None, dual=True, fit_intercept=True,\n",
      "     intercept_scaling=1, loss='squared_hinge', max_iter=1000,\n",
      "     multi_class='ovr', penalty='l2', random_state=None, tol=0.0001,\n",
      "     verbose=0)\n",
      "\n",
      "\n",
      "Validation result for 10000 features\n",
      "val accuracy score: 76.56%\n",
      "test accuracy score: 76.25%\n",
      "train and test time: 30.33s\n",
      "--------------------------------------------------------------------------------\n",
      "Validation result for 20000 features\n",
      "val accuracy score: 76.81%\n",
      "test accuracy score: 76.32%\n",
      "train and test time: 29.27s\n",
      "--------------------------------------------------------------------------------\n",
      "Validation result for 30000 features\n",
      "val accuracy score: 76.87%\n",
      "test accuracy score: 76.41%\n",
      "train and test time: 27.74s\n",
      "--------------------------------------------------------------------------------\n",
      "Validation result for 40000 features\n",
      "val accuracy score: 76.91%\n",
      "test accuracy score: 76.40%\n",
      "train and test time: 29.66s\n",
      "--------------------------------------------------------------------------------\n",
      "Validation result for 50000 features\n",
      "val accuracy score: 76.93%\n",
      "test accuracy score: 76.38%\n",
      "train and test time: 28.21s\n",
      "--------------------------------------------------------------------------------\n",
      "Validation result for 60000 features\n",
      "val accuracy score: 77.04%\n",
      "test accuracy score: 76.39%\n",
      "train and test time: 29.67s\n",
      "--------------------------------------------------------------------------------\n",
      "Validation result for 70000 features\n",
      "val accuracy score: 77.05%\n",
      "test accuracy score: 76.43%\n",
      "train and test time: 27.42s\n",
      "--------------------------------------------------------------------------------\n",
      "Validation result for 80000 features\n",
      "val accuracy score: 77.05%\n",
      "test accuracy score: 76.47%\n",
      "train and test time: 30.45s\n",
      "--------------------------------------------------------------------------------\n",
      "Validation result for 90000 features\n",
      "val accuracy score: 77.03%\n",
      "test accuracy score: 76.48%\n",
      "train and test time: 27.76s\n",
      "--------------------------------------------------------------------------------\n",
      "Validation result for 100000 features\n",
      "val accuracy score: 77.04%\n",
      "test accuracy score: 76.48%\n",
      "train and test time: 28.83s\n",
      "--------------------------------------------------------------------------------\n",
      "CPU times: user 4min 46s, sys: 4.63 s, total: 4min 51s\n",
      "Wall time: 4min 49s\n"
     ]
    }
   ],
   "source": [
    "%%time\n",
    "print \"RESULT FOR UNIGRAM WITH STOP WORDS NOT REMOVED (Tfidf)\\n\"\n",
    "svm_uni_tvec_w_stpw,svm_unigram_tfidf_stp = nfeature_accuracy_checker(vectorizer=tvec,classifier=svm_obj,stop_words='english')"
   ]
  },
  {
   "cell_type": "code",
   "execution_count": 33,
   "metadata": {},
   "outputs": [],
   "source": [
    "with open('tvec_uni_not_removed.pkl','w') as f:\n",
    "    pickle.dump(svm_unigram_tfidf_stp,f)"
   ]
  },
  {
   "cell_type": "markdown",
   "metadata": {},
   "source": [
    "### 8. Using tf-idf, bigram, stop words not removed"
   ]
  },
  {
   "cell_type": "code",
   "execution_count": 26,
   "metadata": {},
   "outputs": [
    {
     "name": "stdout",
     "output_type": "stream",
     "text": [
      "RESULT FOR BIGRAM WITH STOP WORDS (Tfidf)\n",
      "\n",
      "LinearSVC(C=0.1, class_weight=None, dual=True, fit_intercept=True,\n",
      "     intercept_scaling=1, loss='squared_hinge', max_iter=1000,\n",
      "     multi_class='ovr', penalty='l2', random_state=None, tol=0.0001,\n",
      "     verbose=0)\n",
      "\n",
      "\n",
      "Validation result for 10000 features\n",
      "val accuracy score: 77.19%\n",
      "test accuracy score: 76.69%\n",
      "train and test time: 71.84s\n",
      "--------------------------------------------------------------------------------\n",
      "Validation result for 20000 features\n",
      "val accuracy score: 77.59%\n",
      "test accuracy score: 77.01%\n",
      "train and test time: 75.44s\n",
      "--------------------------------------------------------------------------------\n",
      "Validation result for 30000 features\n",
      "val accuracy score: 77.85%\n",
      "test accuracy score: 77.44%\n",
      "train and test time: 74.12s\n",
      "--------------------------------------------------------------------------------\n",
      "Validation result for 40000 features\n",
      "val accuracy score: 78.05%\n",
      "test accuracy score: 77.50%\n",
      "train and test time: 73.96s\n",
      "--------------------------------------------------------------------------------\n",
      "Validation result for 50000 features\n",
      "val accuracy score: 78.11%\n",
      "test accuracy score: 77.50%\n",
      "train and test time: 80.89s\n",
      "--------------------------------------------------------------------------------\n",
      "Validation result for 60000 features\n",
      "val accuracy score: 78.14%\n",
      "test accuracy score: 77.64%\n",
      "train and test time: 72.75s\n",
      "--------------------------------------------------------------------------------\n",
      "Validation result for 70000 features\n",
      "val accuracy score: 78.12%\n",
      "test accuracy score: 77.69%\n",
      "train and test time: 67.82s\n",
      "--------------------------------------------------------------------------------\n",
      "Validation result for 80000 features\n",
      "val accuracy score: 78.07%\n",
      "test accuracy score: 77.64%\n",
      "train and test time: 70.93s\n",
      "--------------------------------------------------------------------------------\n",
      "Validation result for 90000 features\n",
      "val accuracy score: 78.14%\n",
      "test accuracy score: 77.69%\n",
      "train and test time: 74.01s\n",
      "--------------------------------------------------------------------------------\n",
      "Validation result for 100000 features\n",
      "val accuracy score: 78.06%\n",
      "test accuracy score: 77.75%\n",
      "train and test time: 74.33s\n",
      "--------------------------------------------------------------------------------\n",
      "CPU times: user 12min, sys: 15.7 s, total: 12min 16s\n",
      "Wall time: 12min 16s\n"
     ]
    }
   ],
   "source": [
    "%%time\n",
    "print \"RESULT FOR BIGRAM WITH STOP WORDS NOT REMOVED (Tfidf)\\n\"\n",
    "svm_bi_tvec_w_stpw,svm_bigram_tvec_stp = nfeature_accuracy_checker(vectorizer=tvec,ngram_range=(1, 2),classifier=svm_obj,stop_words='english')"
   ]
  },
  {
   "cell_type": "code",
   "execution_count": 34,
   "metadata": {},
   "outputs": [],
   "source": [
    "with open('tvec_bi_not_removed.pkl','w') as f:\n",
    "    pickle.dump(svm_bigram_tvec_stp,f)"
   ]
  },
  {
   "cell_type": "markdown",
   "metadata": {},
   "source": [
    "#### Data Plots"
   ]
  },
  {
   "cell_type": "code",
   "execution_count": 64,
   "metadata": {},
   "outputs": [
    {
     "data": {
      "image/png": "[encoded data removed]",
      "text/plain": [
       "<Figure size 864x576 with 1 Axes>"
      ]
     },
     "metadata": {
      "image/png": {
       "height": 564,
       "width": 722
      },
      "needs_background": "light"
     },
     "output_type": "display_data"
    }
   ],
   "source": [
    "x_axis, val_acc_uni_cvec_wo, test_acc_uni_cvec_wo, _   = svm_uni_cvec_wo_stpw[0]\n",
    "x_axis, val_acc_bi_cvec_wo, test_acc_bi_cvec_wo, _     = svm_bi_cvec_wo_stpw[0]\n",
    "x_axis, val_acc_uni_cvec_w, test_acc_uni_cvec_w, _     = svm_uni_cvec_w_stpw[0]\n",
    "x_axis, val_acc_bi_cvec_w, test_acc_bi_cvec_w, _       = svm_bi_cvec_w_stpw[0]\n",
    "\n",
    "plot_bow(val_acc_uni_cvec_wo,\n",
    "           val_acc_bi_cvec_wo,\n",
    "           val_acc_uni_cvec_w,\n",
    "           val_acc_bi_cvec_w,\n",
    "           \"unigram without stop words\",\n",
    "           \"bigram without stop words\",\n",
    "           \"unigram with stop words\",\n",
    "           \"bigram with stop words\")"
   ]
  },
  {
   "cell_type": "code",
   "execution_count": 65,
   "metadata": {},
   "outputs": [
    {
     "data": {
      "image/png": "[encoded data removed]",
      "text/plain": [
       "<Figure size 864x576 with 1 Axes>"
      ]
     },
     "metadata": {
      "image/png": {
       "height": 494,
       "width": 728
      },
      "needs_background": "light"
     },
     "output_type": "display_data"
    }
   ],
   "source": [
    "x_axis, val_acc_uni_tvec_wo, test_acc_uni_tvec_wo = list(), list(), list()\n",
    "for t in svm_uni_tvec_wo_stpw:\n",
    "    x_axis.append(t[0])\n",
    "    val_acc_uni_tvec_wo.append(t[1])\n",
    "    test_acc_uni_tvec_wo.append(t[2])\n",
    "# x_axis, val_acc_uni_tvec_wo, test_acc_uni_tvec_wo, _   = svm_uni_tvec_wo_stpw\n",
    "\n",
    "x_axis, val_acc_bi_tvec_wo, test_acc_bi_tvec_wo = list(), list(), list()\n",
    "for t in svm_bi_tvec_wo_stpw:\n",
    "    x_axis.append(t[0])\n",
    "    val_acc_bi_tvec_wo.append(t[1])\n",
    "    test_acc_bi_tvec_wo.append(t[2])\n",
    "# x_axis, val_acc_bi_tvec_wo, test_acc_bi_tvec_wo, _     = svm_bi_tvec_wo_stpw\n",
    "\n",
    "x_axis, val_acc_uni_tvec_w, test_acc_uni_tvec_w = list(), list(), list()\n",
    "for t in svm_uni_tvec_w_stpw:\n",
    "    x_axis.append(t[0])\n",
    "    val_acc_uni_tvec_w.append(t[1])\n",
    "    test_acc_uni_tvec_w.append(t[2])\n",
    "# x_axis, val_acc_uni_tvec_w, test_acc_uni_tvec_w, _     = svm_uni_tvec_w_stpw\n",
    "\n",
    "x_axis, val_acc_bi_tvec_w, test_acc_bi_tvec_w = list(), list(), list()\n",
    "for t in svm_bi_tvec_w_stpw:\n",
    "    x_axis.append(t[0])\n",
    "    val_acc_bi_tvec_w.append(t[1])\n",
    "    test_acc_bi_tvec_w.append(t[2])\n",
    "# x_axis, val_acc_bi_tvec_w, test_acc_bi_tvec, _         = svm_bi_tvec_w_stpw\n",
    "\n",
    "plot_tfidf(x_axis,\n",
    "           test_acc_uni_tvec_wo,\n",
    "           test_acc_bi_tvec_wo,\n",
    "           test_acc_uni_tvec_w,\n",
    "           test_acc_bi_tvec_w,\n",
    "           \"unigram without stop words\",\n",
    "           \"bigram without stop words\",\n",
    "           \"unigram with stop words\",\n",
    "           \"bigram with stop words\")"
   ]
  },
  {
   "cell_type": "code",
   "execution_count": 66,
   "metadata": {},
   "outputs": [
    {
     "name": "stdout",
     "output_type": "stream",
     "text": [
      "[(100000, 0.8079648792724993, 0.8080903104421449, 662.3598308563232)]\n"
     ]
    }
   ],
   "source": [
    "print svm_bi_cvec_wo_stpw"
   ]
  },
  {
   "cell_type": "code",
   "execution_count": 67,
   "metadata": {},
   "outputs": [
    {
     "name": "stdout",
     "output_type": "stream",
     "text": [
      "[(10000, 0.7998745688303543, 0.8001254311696456, 73.90651416778564), (20000, 0.8060206961429915, 0.8060834117278144, 76.55018401145935), (30000, 0.8077140169332079, 0.8067105675760426, 80.79872798919678), (40000, 0.8113515208529319, 0.8099717779868297, 76.81808805465698), (50000, 0.8134838507369081, 0.8110379429288178, 77.45153999328613), (60000, 0.8149263091878332, 0.812041392285983, 76.43015193939209), (70000, 0.8151771715271245, 0.812041392285983, 81.3494439125061), (80000, 0.8151144559423017, 0.8129821260583255, 76.48842406272888), (90000, 0.8149263091878332, 0.8136719974913766, 75.21609091758728), (100000, 0.8148008780181876, 0.813546566321731, 74.76329207420349)]\n"
     ]
    }
   ],
   "source": [
    "print svm_bi_tvec_wo_stpw"
   ]
  },
  {
   "cell_type": "code",
   "execution_count": null,
   "metadata": {},
   "outputs": [],
   "source": []
  },
  {
   "cell_type": "markdown",
   "metadata": {},
   "source": [
    "#### Testing on FB and amazon reviews"
   ]
  },
  {
   "cell_type": "code",
   "execution_count": 74,
   "metadata": {},
   "outputs": [],
   "source": [
    "fb = pd.read_csv(\"../input_data/facebook_comments/clean_fb.csv\")\n",
    "am = pd.read_csv(\"../input_data/amazon_review/clean_amazon.csv\")\n",
    "\n",
    "fb.dropna(inplace=True)\n",
    "fb.reset_index(drop=True,inplace=True)\n",
    "\n",
    "am.dropna(inplace=True)\n",
    "am.reset_index(drop=True,inplace=True)\n"
   ]
  },
  {
   "cell_type": "code",
   "execution_count": 69,
   "metadata": {},
   "outputs": [
    {
     "name": "stdout",
     "output_type": "stream",
     "text": [
      "0.8400556328233658\n"
     ]
    }
   ],
   "source": [
    "y_pred = svm_bigram_tvec.predict(fb.text)\n",
    "acc = accuracy_score(y_pred,fb.target)\n",
    "print acc"
   ]
  },
  {
   "cell_type": "raw",
   "metadata": {},
   "source": [
    "y_pred = svm_bigram.predict(fb.text)\n",
    "acc = accuracy_score(y_pred,fb.target)\n",
    "print acc"
   ]
  },
  {
   "cell_type": "code",
   "execution_count": 70,
   "metadata": {},
   "outputs": [
    {
     "name": "stdout",
     "output_type": "stream",
     "text": [
      "0.7751937984496124\n"
     ]
    }
   ],
   "source": [
    "y_pred = svm_bigram_tvec.predict(am.text)\n",
    "acc = accuracy_score(y_pred,am.target)\n",
    "print acc"
   ]
  },
  {
   "cell_type": "raw",
   "metadata": {},
   "source": [
    "y_pred = svm_bigram.predict(am.text)\n",
    "acc = accuracy_score(y_pred,am.target)\n",
    "print acc"
   ]
  },
  {
   "cell_type": "code",
   "execution_count": null,
   "metadata": {},
   "outputs": [],
   "source": []
  }
 ],
 "metadata": {
  "kernelspec": {
   "display_name": "Python 2",
   "language": "python",
   "name": "python2"
  },
  "language_info": {
   "codemirror_mode": {
    "name": "ipython",
    "version": 2
   },
   "file_extension": ".py",
   "mimetype": "text/x-python",
   "name": "python",
   "nbconvert_exporter": "python",
   "pygments_lexer": "ipython2",
   "version": "2.7.15rc1"
  }
 },
 "nbformat": 4,
 "nbformat_minor": 2
}
